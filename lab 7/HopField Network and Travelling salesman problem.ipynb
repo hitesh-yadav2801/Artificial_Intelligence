{
  "nbformat": 4,
  "nbformat_minor": 0,
  "metadata": {
    "colab": {
      "provenance": []
    },
    "kernelspec": {
      "name": "python3",
      "display_name": "Python 3"
    },
    "language_info": {
      "name": "python"
    }
  },
  "cells": [
    {
      "cell_type": "markdown",
      "source": [
        "# Hopfield Network for error detection in patterns"
      ],
      "metadata": {
        "id": "57Ju1XXM8kb-"
      }
    },
    {
      "cell_type": "code",
      "execution_count": null,
      "metadata": {
        "id": "BGBXD9j37sTY"
      },
      "outputs": [],
      "source": [
        "from imageio import imread\n",
        "import numpy as np\n",
        "import matplotlib.pyplot as plt\n",
        "import copy\n",
        "\n",
        "from skimage import data, io, filters\n",
        "\n",
        "from PIL import Image\n",
        "from skimage.transform import resize\n",
        "import random\n",
        "%matplotlib inline"
      ]
    },
    {
      "cell_type": "code",
      "source": [
        "# Useful functions\n",
        "def IsScalar(x):\n",
        "    if type(x) in (list, np.ndarray,):\n",
        "        return False\n",
        "    else:\n",
        "        return True\n",
        "\n",
        "def Thresh(x):\n",
        "    if IsScalar(x):\n",
        "        val = 1 if x>0 else -1\n",
        "    else:\n",
        "        val = np.ones_like(x)\n",
        "        val[x<0] = -1.\n",
        "    return val\n",
        "\n",
        "def Hamming(x, y):\n",
        "    '''\n",
        "        d = Hamming(x,y)\n",
        "        \n",
        "        Hamming distance between two binary vectors x and y.\n",
        "        It's the number of digits that differ.\n",
        "        \n",
        "        Inputs:\n",
        "          x and y are arrays of binary vectors, and can be either {0,1} or {-1,1}\n",
        "        \n",
        "        Output:\n",
        "          d is the number of places where the inputs differ\n",
        "    '''\n",
        "    d = []\n",
        "    for xx, yy in zip(x,y):\n",
        "        dd = 0.\n",
        "        for xxx,yyy in zip(xx,yy):\n",
        "            if xxx==1 and yyy!=1:\n",
        "                dd += 1.\n",
        "            elif yyy==1 and xxx!=1:\n",
        "                dd += 1.\n",
        "        d.append(dd)\n",
        "    return d\n",
        "\n",
        "def Perturb(x, p=0.1):\n",
        "    '''\n",
        "        y = Perturb(x, p=0.1)\n",
        "        \n",
        "        Apply binary noise to x. With probability p, each bit will be randomly\n",
        "        set to -1 or 1.\n",
        "        \n",
        "        Inputs:\n",
        "          x is an array of binary vectors of {-1,1}\n",
        "          p is the probability of each bit being randomly flipped\n",
        "        \n",
        "        Output:\n",
        "          y is an array of binary vectors of {-1,1}\n",
        "    '''\n",
        "    y = copy.deepcopy(x)\n",
        "    for yy in y:\n",
        "        for k in range(len(yy)):\n",
        "            if np.random.rand()<p:\n",
        "                yy[k] = Thresh(np.random.randint(2)*2-1)\n",
        "    return y"
      ],
      "metadata": {
        "id": "WkBf4C5J9YrF"
      },
      "execution_count": null,
      "outputs": []
    },
    {
      "cell_type": "code",
      "source": [
        "def Update(W, x, b):\n",
        "    xnew = x @ W - b\n",
        "    return Thresh(xnew)"
      ],
      "metadata": {
        "id": "NnYzT_oZ-HUq"
      },
      "execution_count": null,
      "outputs": []
    },
    {
      "cell_type": "code",
      "source": [
        "letters = []\n",
        "letters.append(imread('/content/A.png'))\n",
        "letters.append(imread('/content/B.png'))\n",
        "letters.append(imread('/content/C.png'))\n",
        "letters.append(imread('/content/D.png'))\n",
        "n = len(letters)\n",
        "N = len(letters[0].flatten())\n",
        "X = np.zeros((n, N))\n",
        "for idx,img in enumerate(letters):\n",
        "    X[idx,:] = Thresh(np.array([img.flatten()-0.5]))"
      ],
      "metadata": {
        "id": "9iZc9drw77kC"
      },
      "execution_count": null,
      "outputs": []
    },
    {
      "cell_type": "code",
      "source": [
        "plt.figure(figsize=(16,4))\n",
        "for k in range(n):\n",
        "    plt.subplot(1,n,k+1);\n",
        "    plt.imshow(np.reshape(X[k], (6,6)), cmap='tab20c_r'); plt.axis('off');"
      ],
      "metadata": {
        "colab": {
          "base_uri": "https://localhost:8080/",
          "height": 225
        },
        "id": "O9czm-G19lh9",
        "outputId": "03bfcec0-6bf2-4036-ba37-0913315bcc1e"
      },
      "execution_count": null,
      "outputs": [
        {
          "output_type": "display_data",
          "data": {
            "text/plain": [
              "<Figure size 1152x288 with 4 Axes>"
            ],
            "image/png": "[encoded data removed]"
          },
          "metadata": {
            "needs_background": "light"
          }
        }
      ]
    },
    {
      "cell_type": "code",
      "source": [
        "X@X.T"
      ],
      "metadata": {
        "colab": {
          "base_uri": "https://localhost:8080/"
        },
        "id": "FKDAoxS_9sZd",
        "outputId": "ae9ba835-2fc0-4920-b141-56c65e0fa86b"
      },
      "execution_count": null,
      "outputs": [
        {
          "output_type": "execute_result",
          "data": {
            "text/plain": [
              "array([[36.,  0.,  0., 12.],\n",
              "       [ 0., 36.,  0., 12.],\n",
              "       [ 0.,  0., 36.,  4.],\n",
              "       [12., 12.,  4., 36.]])"
            ]
          },
          "metadata": {},
          "execution_count": 7
        }
      ]
    },
    {
      "cell_type": "code",
      "source": [
        "# Connection weights and biases\n",
        "b = np.zeros((1,N))\n",
        "b = np.sum(X, axis=0) / n\n",
        "W = ( X.T @ X ) / n - np.eye(N)\n",
        "W0 = copy.deepcopy(W)"
      ],
      "metadata": {
        "id": "YmQZN9rq9wJm"
      },
      "execution_count": null,
      "outputs": []
    },
    {
      "cell_type": "code",
      "source": [
        "# Perturbed memory\n",
        "k = np.random.randint(n)\n",
        "Y = Perturb( X , p=0.2)\n",
        "x = Y[k:k+1,]\n",
        "x[0,24:] = -1.\n",
        "err = Hamming(x, X[k:k+1,:])\n",
        "print('Class '+str(k)+' with '+str(err)+' errors')\n",
        "x_orig = copy.deepcopy(x)\n",
        "#plt.imshow(np.reshape(x,[28,28]), cmap='gray'); plt.axis('off');\n",
        "plt.imshow(np.reshape(x,[6,6]), cmap='tab20c_r'); plt.axis('off');"
      ],
      "metadata": {
        "colab": {
          "base_uri": "https://localhost:8080/",
          "height": 265
        },
        "id": "JJyZAcT89y53",
        "outputId": "90121b12-2e36-4bb7-d87c-c8211cc3c405"
      },
      "execution_count": null,
      "outputs": [
        {
          "output_type": "stream",
          "name": "stdout",
          "text": [
            "Class 0 with [10.0] errors\n"
          ]
        },
        {
          "output_type": "display_data",
          "data": {
            "text/plain": [
              "<Figure size 432x288 with 1 Axes>"
            ],
            "image/png": "[encoded data removed]"
          },
          "metadata": {
            "needs_background": "light"
          }
        }
      ]
    },
    {
      "cell_type": "code",
      "source": [
        "xs = copy.deepcopy(x_orig)\n",
        "xa = copy.deepcopy(x)\n",
        "# Synchronous updating\n",
        "n_iters = 2\n",
        "for idx in range(n_iters):\n",
        "    xs = Update(W, xs, b)"
      ],
      "metadata": {
        "id": "hJIBUpTa9441"
      },
      "execution_count": null,
      "outputs": []
    },
    {
      "cell_type": "code",
      "source": [
        "# Asynchronous updating\n",
        "n_iters = 10\n",
        "for count in range(n_iters):\n",
        "    node_idx = list(range(N))\n",
        "    np.random.shuffle(node_idx)\n",
        "    for idx in node_idx:\n",
        "        ic = xa@W[:,idx] - b[idx]\n",
        "        xa[0,idx] = Thresh(ic)"
      ],
      "metadata": {
        "id": "RyZ4gK84-M64"
      },
      "execution_count": null,
      "outputs": []
    },
    {
      "cell_type": "code",
      "source": [
        "print('Correct class is '+str(k))\n",
        "print('Synchronous updating')\n",
        "for idx,t in enumerate(X):\n",
        "    ds = Hamming(xs, [t])[0]\n",
        "    print('Memory '+str(idx)+' has error '+str(ds))\n",
        "print('Asynchronous updating')\n",
        "for idx,t in enumerate(X):\n",
        "    da = Hamming(xa, [t])[0]\n",
        "    print('Memory '+str(idx)+' has error '+str(da))"
      ],
      "metadata": {
        "colab": {
          "base_uri": "https://localhost:8080/"
        },
        "id": "-sSATXs2-Pqr",
        "outputId": "e2775d47-a3e9-4730-debc-2c09458347a0"
      },
      "execution_count": null,
      "outputs": [
        {
          "output_type": "stream",
          "name": "stdout",
          "text": [
            "Correct class is 0\n",
            "Synchronous updating\n",
            "Memory 0 has error 0.0\n",
            "Memory 1 has error 18.0\n",
            "Memory 2 has error 18.0\n",
            "Memory 3 has error 12.0\n",
            "Asynchronous updating\n",
            "Memory 0 has error 0.0\n",
            "Memory 1 has error 18.0\n",
            "Memory 2 has error 18.0\n",
            "Memory 3 has error 12.0\n"
          ]
        }
      ]
    },
    {
      "cell_type": "code",
      "source": [
        "plt.subplot(1,2,1); plt.imshow(np.reshape(xs,[6,6]), cmap='tab20c_r'); plt.title('Synchronous'); plt.axis('off');\n",
        "plt.subplot(1,2,2); plt.imshow(np.reshape(xa,[6,6]), cmap='tab20c_r'); plt.title('Asynchronous'); plt.axis('off');"
      ],
      "metadata": {
        "colab": {
          "base_uri": "https://localhost:8080/",
          "height": 199
        },
        "id": "cIbZNAQz-T5z",
        "outputId": "981cf991-b2be-4c6a-e1af-bef1bfe3b472"
      },
      "execution_count": null,
      "outputs": [
        {
          "output_type": "display_data",
          "data": {
            "text/plain": [
              "<Figure size 432x288 with 2 Axes>"
            ],
            "image/png": "[encoded data removed]"
          },
          "metadata": {
            "needs_background": "light"
          }
        }
      ]
    },
    {
      "cell_type": "markdown",
      "source": [
        "# **Traveling** **Salesman** **Problem**\n"
      ],
      "metadata": {
        "id": "HgfNd8fE8NBo"
      }
    },
    {
      "cell_type": "code",
      "source": [
        "# Number of cities\n",
        "N = 10\n",
        "\n",
        "city_x = np.random.rand((10))\n",
        "city_y = np.random.rand((10))\n",
        "\n",
        "print('The co-ordinates of the 10 cities are:')\n",
        "for city in zip(city_x, city_y):\n",
        "    print(city)"
      ],
      "metadata": {
        "colab": {
          "base_uri": "https://localhost:8080/"
        },
        "id": "5ubf3kr4z4lO",
        "outputId": "683e1fe8-1f35-4c5c-8e4f-12335f574669"
      },
      "execution_count": null,
      "outputs": [
        {
          "output_type": "stream",
          "name": "stdout",
          "text": [
            "The co-ordinates of the 10 cities are:\n",
            "(0.28708879223989514, 0.4909244073944623)\n",
            "(0.24849356469454453, 0.1983503258901378)\n",
            "(0.06564898710154676, 0.363568160347401)\n",
            "(0.4919526172917188, 0.5092148737539381)\n",
            "(0.534575366567767, 0.32832049537506014)\n",
            "(0.5551297436710007, 0.792605477009375)\n",
            "(0.4331157029439283, 0.7849211518388373)\n",
            "(0.5361916040863303, 0.6054357830940065)\n",
            "(0.8297858549930206, 0.11311786087049103)\n",
            "(0.6291139235242328, 0.060152607963878224)\n"
          ]
        }
      ]
    },
    {
      "cell_type": "code",
      "source": [
        "plt.plot(city_x, city_y, 'o')\n",
        "plt.title('Map of cities')"
      ],
      "metadata": {
        "colab": {
          "base_uri": "https://localhost:8080/",
          "height": 298
        },
        "id": "NqepsGcyz5xD",
        "outputId": "8a275dec-1e74-4216-9788-3a78176b2511"
      },
      "execution_count": null,
      "outputs": [
        {
          "output_type": "execute_result",
          "data": {
            "text/plain": [
              "Text(0.5, 1.0, 'Map of cities')"
            ]
          },
          "metadata": {},
          "execution_count": 15
        },
        {
          "output_type": "display_data",
          "data": {
            "text/plain": [
              "<Figure size 432x288 with 1 Axes>"
            ],
            "image/png": "[encoded data removed]"
          },
          "metadata": {
            "needs_background": "light"
          }
        }
      ]
    },
    {
      "cell_type": "code",
      "source": [
        "d = np.zeros((N,N))\n",
        "# Calculate distance matrix\n",
        "for i in range(N):\n",
        "    for j in range(N):\n",
        "        d[i, j] = np.sqrt((city_x[i] - city_x[j])**2 + (city_y[i] - city_y[j])**2)\n",
        "\n",
        "print(d);"
      ],
      "metadata": {
        "colab": {
          "base_uri": "https://localhost:8080/"
        },
        "id": "9XAvoyJIz8_s",
        "outputId": "207d7bf0-94f3-4f3d-a974-8d32230d9e66"
      },
      "execution_count": null,
      "outputs": [
        {
          "output_type": "stream",
          "name": "stdout",
          "text": [
            "[[0.         0.69505472 0.3676058  0.46739693 0.73959916 0.20977847\n",
            "  0.55338629 0.58466236 0.40961806 0.51774165]\n",
            " [0.69505472 0.         0.33986621 0.22766583 0.84777492 0.65981348\n",
            "  0.35091304 0.1696828  0.29949522 0.26226932]\n",
            " [0.3676058  0.33986621 0.         0.12379611 0.65358872 0.32425789\n",
            "  0.24135735 0.27969392 0.14168097 0.16259868]\n",
            " [0.46739693 0.22766583 0.12379611 0.         0.74421891 0.44737161\n",
            "  0.27538887 0.15902786 0.09533103 0.16472376]\n",
            " [0.73959916 0.84777492 0.65358872 0.74421891 0.         0.52984312\n",
            "  0.49846561 0.8933185  0.7948066  0.60257348]\n",
            " [0.20977847 0.65981348 0.32425789 0.44737161 0.52984312 0.\n",
            "  0.42045505 0.59754473 0.43142197 0.42627114]\n",
            " [0.55338629 0.35091304 0.24135735 0.27538887 0.49846561 0.42045505\n",
            "  0.         0.40521428 0.35421427 0.11269484]\n",
            " [0.58466236 0.1696828  0.27969392 0.15902786 0.8933185  0.59754473\n",
            "  0.40521428 0.         0.1757581  0.29382061]\n",
            " [0.40961806 0.29949522 0.14168097 0.09533103 0.7948066  0.43142197\n",
            "  0.35421427 0.1757581  0.         0.24968563]\n",
            " [0.51774165 0.26226932 0.16259868 0.16472376 0.60257348 0.42627114\n",
            "  0.11269484 0.29382061 0.24968563 0.        ]]\n"
          ]
        }
      ]
    },
    {
      "cell_type": "code",
      "source": [
        "# Set parameters for network energy function\n",
        "#A : controls the impact of connections between the nodes in the same column of the weight matrix.\n",
        "#B : controls the impact of connections between the nodes in the same row of the weight matrix.\n",
        "#C : controls the overall level of activation in the network.\n",
        "#D : controls the input of the connection between b/w  neighboring nodes.\n",
        "\n",
        "A = 500 #penalize short edges and encourage long edges.\n",
        "B = 500 #penalize the intersection of edges. \n",
        "C = 1000 #encourage the edges to connect to each other in a cycle.\n",
        "D = 500 #encourage the edges to connect to each other in a cycle.\n",
        "\n",
        "\n",
        "alpha = 0.0001 #to control the strength of the weigth update during learning"
      ],
      "metadata": {
        "id": "o3bhLPd20HUv"
      },
      "execution_count": null,
      "outputs": []
    },
    {
      "cell_type": "code",
      "source": [
        "# x-v-value of each node, y-u-input potential, u0-gamma\n",
        "def hopfield():\n",
        "    u0 = 0.02\n",
        "    toend = 0\n",
        "    udao = np.zeros((N, N))\n",
        "    ctr = 0\n",
        "    while toend == 0:\n",
        "        ctr += 1\n",
        "        # U initialization\n",
        "        #v - initial state of the network which will converge towards soln for TSP\n",
        "        v = np.random.rand(N,N)\n",
        "        #u - input potential of each node.\n",
        "        u = np.ones([N, N])*(-u0*np.log(N-1)/2)\n",
        "\n",
        "        u += u*0.91 \n",
        "        #increased u by 91% to adjust fir the symmetry b/w input output  in the energy function.\n",
        "        for _ in range(100000):\n",
        "            for vx in range(N):\n",
        "                for vi in range(N):\n",
        "                    j1, j2, j3, j4 = 0, 0, 0, 0\n",
        "                    #these are the parameters calculated to update the u of node in the direction that will reduce the energy function.\n",
        "\n",
        "                    \n",
        "                    # derivative 1 (sum over columns j!=vi)\n",
        "                    for j in range(N):\n",
        "                        if j != vi:\n",
        "                            j1 += v[vx, j]\n",
        "                    j1 *= -A\n",
        "\n",
        "                    # derivative 2 (sum over rows y!=x)\n",
        "                    for y in range(N):\n",
        "                        if y != vx:\n",
        "                            j2 += v[y, vi]\n",
        "                    j2 *= -B\n",
        "\n",
        "                    # derivative 3 (overall sum)\n",
        "                    j3 = np.sum(v)\n",
        "                    j3 = -C*(j3-N)\n",
        "\n",
        "                    # derivative 4\n",
        "                    for y in range(N):\n",
        "                        if y != vx:\n",
        "                            if vi == 0:\n",
        "                                j4 += d[vx, y]*(v[y, vi+1]+v[y, N-1])\n",
        "                            elif vi == N-1:\n",
        "                                j4 += d[vx, y]*(v[y, vi-1]+v[y, 0])\n",
        "                            else:\n",
        "                                j4 += d[vx, y]*(v[y, vi+1]+v[y, vi-1])\n",
        "                    j4 *= -D\n",
        "                    udao[vx, vi] = -u[vx, vi]+j1+j2+j3+j4\n",
        "\n",
        "\n",
        "            \n",
        "\n",
        "            # update status and derivatives\n",
        "             #status of the system is updated by adding the derivative of the energy function with respect to the current status\n",
        "            u = u + alpha*udao\n",
        "           \n",
        "\n",
        "               # calculates the output node value based on the input potential u using a sigmoidal activation function.\n",
        "            v = (1+np.tanh(u/u0)) / 2\n",
        "         \n",
        "\n",
        "\n",
        "            # threshold\n",
        "            # thresholding step is used to convert the output values from the Hopfield network to binary values.\n",
        "            for vx in range(N):\n",
        "                for vi in range(N):\n",
        "                    if(v[vx, vi] < 0.7):\n",
        "                        v[vx, vi] = 0\n",
        "                    if(v[vx, vi] >= 0.7):\n",
        "                        v[vx, vi]=1\n",
        "            \n",
        "        # testing whether solution is legal\n",
        "        t1, t2, t3 = 0, 0, 0\n",
        "\n",
        "        # require total of N-nodes with 1 value\n",
        "        t1=0;\n",
        "        for vx in range(N):\n",
        "            for vi in range(N):\n",
        "                t1+=v[vx, vi]\n",
        "\n",
        "        # allow only one node in each row equal 1\n",
        "        t2=0\n",
        "        for x in range(N):\n",
        "            for i in range(N-1):\n",
        "                for j in range(i+1, N):\n",
        "                    t2+=np.multiply(v[x, i], v[x, j])\n",
        "\n",
        "        # allow only one node in each column equal 1\n",
        "        t3=0\n",
        "        for i in range(N):\n",
        "            for x in range(N-1):\n",
        "                for y in range(x+1, N):\n",
        "                    t3+=np.multiply(v[x, i], v[y, i])\n",
        "\n",
        "        # stop the loop after getting the valid solution\n",
        "        if t1 == N and t2 == 0 and t3 == 0:\n",
        "            toend = 1\n",
        "        else:\n",
        "            toend = 0\n",
        "\n",
        "    return(v, ctr)"
      ],
      "metadata": {
        "id": "Bvva9Vb80ILv"
      },
      "execution_count": null,
      "outputs": []
    },
    {
      "cell_type": "code",
      "source": [
        "def total_distance(v):\n",
        "  #calculates the total distance of the path obtained by visiting the cities in the order specified by the input binary matrix \n",
        "   \n",
        "    city_x_final = np.zeros((N+1))\n",
        "    city_y_final = np.zeros((N+1))\n",
        "\n",
        "    for j in range(N):\n",
        "        for i in range(N):\n",
        "            if v[i,j] == 1:\n",
        "                city_x_final[j] = city_x[i]\n",
        "                city_y_final[j] = city_y[i]\n",
        "\n",
        "    city_x_final[N] = city_x_final[0]\n",
        "    city_y_final[N] = city_y_final[0]\n",
        "\n",
        "    # calculate the total distance\n",
        "    td = 0\n",
        "    for i in range(N-1):\n",
        "        td += np.sqrt((city_x_final[i] - city_x_final[i+1])**2\n",
        "                    + (city_y_final[i] - city_y_final[i+1])**2)\n",
        "    td += np.sqrt((city_x_final[N-1] - city_x_final[0])**2\n",
        "                + (city_y_final[N-1] - city_y_final[0])**2)\n",
        "    \n",
        "    return(td, city_x_final, city_y_final)"
      ],
      "metadata": {
        "id": "7B8kYm0c0LBQ"
      },
      "execution_count": null,
      "outputs": []
    },
    {
      "cell_type": "code",
      "source": [
        "v = np.zeros([N,N])\n",
        "\n",
        "ct = 0\n",
        "\n",
        "min_dist = 20\n",
        "best_path = None\n",
        "\n",
        "for i in range(10):\n",
        "    v, steps = hopfield()\n",
        "    td, _, _ = total_distance(v)\n",
        "    print(f\"Epoch {i}: Ran for {steps} steps, total distance {td}\")\n",
        "    if td < min_dist:\n",
        "        min_dist = td\n",
        "        best_path = v\n",
        "print(min_dist)\n",
        "print(best_path)\n",
        "#If the total distance is less than the previous minimum distance, it updates the minimum distance and stores the binary matrix as the best path."
      ],
      "metadata": {
        "colab": {
          "base_uri": "https://localhost:8080/"
        },
        "id": "mWFvApdC0Nqx",
        "outputId": "45fa1a80-ac5d-4c21-eac7-499cd492e08d"
      },
      "execution_count": null,
      "outputs": [
        {
          "output_type": "stream",
          "name": "stdout",
          "text": [
            "Epoch 0: Ran for 54 steps, total distance 2.712787959789945\n",
            "Epoch 1: Ran for 47 steps, total distance 2.831384447500886\n",
            "Epoch 2: Ran for 11 steps, total distance 2.5978993025955774\n",
            "Epoch 3: Ran for 44 steps, total distance 2.9978891531953997\n",
            "Epoch 4: Ran for 15 steps, total distance 2.817199140766037\n",
            "Epoch 5: Ran for 16 steps, total distance 3.1621149141272875\n",
            "Epoch 6: Ran for 11 steps, total distance 3.031675054732217\n",
            "Epoch 7: Ran for 2 steps, total distance 2.9287119810998528\n",
            "Epoch 8: Ran for 25 steps, total distance 3.117361607690662\n",
            "Epoch 9: Ran for 4 steps, total distance 2.808816967159389\n",
            "2.5978993025955774\n",
            "[[0. 0. 0. 0. 0. 0. 0. 0. 0. 1.]\n",
            " [0. 0. 0. 1. 0. 0. 0. 0. 0. 0.]\n",
            " [1. 0. 0. 0. 0. 0. 0. 0. 0. 0.]\n",
            " [0. 0. 0. 0. 1. 0. 0. 0. 0. 0.]\n",
            " [0. 0. 0. 0. 0. 0. 0. 1. 0. 0.]\n",
            " [0. 0. 0. 0. 0. 0. 0. 0. 1. 0.]\n",
            " [0. 0. 0. 0. 0. 0. 1. 0. 0. 0.]\n",
            " [0. 0. 1. 0. 0. 0. 0. 0. 0. 0.]\n",
            " [0. 1. 0. 0. 0. 0. 0. 0. 0. 0.]\n",
            " [0. 0. 0. 0. 0. 1. 0. 0. 0. 0.]]\n"
          ]
        }
      ]
    },
    {
      "cell_type": "code",
      "source": [
        "#search for 1 column wise in  the best path matrix\n",
        "def get_route(v):\n",
        "    route = \"\"\n",
        "    for j in range(v.shape[1]):\n",
        "        route += str(np.argmax(v[:, j])) + ' -> '\n",
        "        #For each column, it finds the row with the highest value (which will be 1 in the case of the Hopfield network), using the np.argmax() function.\n",
        "#after the loop has finished, it appends the index of the first city to the route string to complete the tour.\n",
        "\n",
        "    return (route + str(np.argmax(v[:, 0])))"
      ],
      "metadata": {
        "id": "wVgqsgyk0Sff"
      },
      "execution_count": null,
      "outputs": []
    },
    {
      "cell_type": "code",
      "source": [
        "print(get_route(best_path))"
      ],
      "metadata": {
        "colab": {
          "base_uri": "https://localhost:8080/"
        },
        "id": "P1OdDllE0UkA",
        "outputId": "5f71ed65-d489-49d6-fd12-3870d1701bb3"
      },
      "execution_count": null,
      "outputs": [
        {
          "output_type": "stream",
          "name": "stdout",
          "text": [
            "2 -> 8 -> 7 -> 1 -> 3 -> 9 -> 6 -> 4 -> 5 -> 0 -> 2\n"
          ]
        }
      ]
    },
    {
      "cell_type": "code",
      "source": [
        "def get_route_indices(v):\n",
        "    indices = []\n",
        "    for j in range(v.shape[1]):\n",
        "        indices.append(np.argmax(v[:, j]))\n",
        "    indices.append(np.argmax(v[:, 0]))\n",
        "    return indices"
      ],
      "metadata": {
        "id": "bk8CAU5p0VZ8"
      },
      "execution_count": null,
      "outputs": []
    },
    {
      "cell_type": "code",
      "source": [
        "indices = get_route_indices(best_path)\n",
        "print(indices)"
      ],
      "metadata": {
        "colab": {
          "base_uri": "https://localhost:8080/"
        },
        "id": "Ttt0LFEy0Yd-",
        "outputId": "36c96389-2032-4268-c132-e39c6f6641ca"
      },
      "execution_count": null,
      "outputs": [
        {
          "output_type": "stream",
          "name": "stdout",
          "text": [
            "[2, 8, 7, 1, 3, 9, 6, 4, 5, 0, 2]\n"
          ]
        }
      ]
    },
    {
      "cell_type": "code",
      "source": [
        "# indices = get_route_indices(best_path)\n",
        "for i in indices[1:]:\n",
        "    plt.plot([city_x[i], city_x[i-1]], [city_y[i], city_y[i-1]], '-')\n",
        "plt.show()"
      ],
      "metadata": {
        "colab": {
          "base_uri": "https://localhost:8080/",
          "height": 265
        },
        "id": "4neBJ1x_0bru",
        "outputId": "f3155b0d-c86f-4af2-a90a-449506f3f6f0"
      },
      "execution_count": null,
      "outputs": [
        {
          "output_type": "display_data",
          "data": {
            "text/plain": [
              "<Figure size 432x288 with 1 Axes>"
            ],
            "image/png": "[encoded data removed]"
          },
          "metadata": {
            "needs_background": "light"
          }
        }
      ]
    }
  ]
}